{
 "cells": [
  {
   "cell_type": "code",
   "execution_count": 1,
   "id": "2e39c04f-af0d-4f40-9e52-0cc69ef6f61c",
   "metadata": {},
   "outputs": [
    {
     "name": "stdout",
     "output_type": "stream",
     "text": [
      "A= [[1 2]\n",
      " [3 4]\n",
      " [5 6]]\n",
      "shape of array A: (3, 2)\n",
      "\n",
      "U= [[-0.2298477   0.88346102  0.40824829]\n",
      " [-0.52474482  0.24078249 -0.81649658]\n",
      " [-0.81964194 -0.40189603  0.40824829]]\n",
      "shape of matrix U: (3, 3)\n",
      "\n",
      "Sigma(diagonal matrix),s= [9.52551809 0.51430058]\n",
      "shape of matrix sigma: (2,)\n",
      "\n",
      "transpose matrix: VT= [[-0.61962948 -0.78489445]\n",
      " [-0.78489445  0.61962948]]\n",
      "shape of VT: (2, 2)\n"
     ]
    }
   ],
   "source": [
    "from numpy import array\n",
    "from scipy.linalg import svd\n",
    "A=array([[1,2],[3,4],[5,6]])\n",
    "print(\"A=\",A)\n",
    "print(\"shape of array A:\",A.shape)\n",
    "print(\"\")\n",
    "U,s,VT=svd(A)\n",
    "print(\"U=\",U)\n",
    "print(\"shape of matrix U:\",U.shape)\n",
    "print(\"\")\n",
    "print(\"Sigma(diagonal matrix),s=\",s)\n",
    "print(\"shape of matrix sigma:\",s.shape)\n",
    "print(\"\")\n",
    "print(\"transpose matrix: VT=\",VT)\n",
    "print(\"shape of VT:\",VT.shape)"
   ]
  },
  {
   "cell_type": "code",
   "execution_count": 3,
   "id": "d28cebaf-ce1a-4293-8a5e-1523205f2af9",
   "metadata": {},
   "outputs": [
    {
     "name": "stdout",
     "output_type": "stream",
     "text": [
      "A= [[1 2]\n",
      " [3 4]\n",
      " [5 6]]\n",
      "shape of matrix A (3, 2)\n",
      "U= [[-0.2298477   0.88346102  0.40824829]\n",
      " [-0.52474482  0.24078249 -0.81649658]\n",
      " [-0.81964194 -0.40189603  0.40824829]]\n",
      "shape of matrix U: (3, 3)\n",
      "sigma diagonal matrix s= [9.52551809 0.51430058]\n",
      "shape of matrix s (2,)\n",
      "VT= [[-0.61962948 -0.78489445]\n",
      " [-0.78489445  0.61962948]]\n",
      "shape of diagonal (2, 2)\n",
      "reconstructed matrix: [[1. 2.]\n",
      " [3. 4.]\n",
      " [5. 6.]]\n"
     ]
    }
   ],
   "source": [
    "from numpy import array,diag,dot,zeros\n",
    "from scipy.linalg import svd\n",
    "A=array([[1,2],[3,4],[5,6]])\n",
    "print(\"A=\",A)\n",
    "print(\"shape of matrix A\",A.shape)\n",
    "U,s,VT=svd(A)\n",
    "print(\"U=\",U)\n",
    "print(\"shape of matrix U:\",U.shape)\n",
    "print(\"sigma diagonal matrix s=\",s)\n",
    "print(\"shape of matrix s\",s.shape)\n",
    "print(\"VT=\",VT)\n",
    "print(\"shape of diagonal\",VT.shape)\n",
    "sigma=zeros((A.shape[0],A.shape[1]))\n",
    "sigma[:A.shape[1],:A.shape[1]]=diag(s)\n",
    "B=U.dot(sigma.dot(VT))\n",
    "print(\"reconstructed matrix:\",B)"
   ]
  },
  {
   "cell_type": "code",
   "execution_count": 7,
   "id": "54c6178d-e7fd-4fd0-ac3d-84e0ad276f7e",
   "metadata": {},
   "outputs": [
    {
     "name": "stdout",
     "output_type": "stream",
     "text": [
      "A= [[1 2]\n",
      " [3 4]\n",
      " [5 6]]\n",
      "pseudoinverse of matrix A(pinv):\n",
      "[[-1.33333333 -0.33333333  0.66666667]\n",
      " [ 1.08333333  0.33333333 -0.41666667]]\n",
      "pseudoinverse of matrix A(svd):\n",
      "[[-1.33333333 -0.33333333  0.66666667]\n",
      " [ 1.08333333  0.33333333 -0.41666667]]\n"
     ]
    }
   ],
   "source": [
    "from numpy import array,diag,zeros\n",
    "from scipy.linalg import pinv\n",
    "from numpy.linalg import svd\n",
    "a=array([[1,2],[3,4],[5,6]])\n",
    "print(\"A=\",A)\n",
    "print(\"pseudoinverse of matrix A(pinv):\")\n",
    "print(pinv(A))\n",
    "d=1.0/s\n",
    "D=zeros(A.shape)\n",
    "D[:A.shape[1],:A.shape[1]]=diag(d)\n",
    "B=VT.T.dot(D.T).dot(U.T)\n",
    "print(\"pseudoinverse of matrix A(svd):\")\n",
    "print(B)"
   ]
  },
  {
   "cell_type": "code",
   "execution_count": null,
   "id": "e562e1ad-c74e-41ae-a15c-7c6e2eeedc75",
   "metadata": {},
   "outputs": [],
   "source": []
  }
 ],
 "metadata": {
  "kernelspec": {
   "display_name": "Python 3 (ipykernel)",
   "language": "python",
   "name": "python3"
  },
  "language_info": {
   "codemirror_mode": {
    "name": "ipython",
    "version": 3
   },
   "file_extension": ".py",
   "mimetype": "text/x-python",
   "name": "python",
   "nbconvert_exporter": "python",
   "pygments_lexer": "ipython3",
   "version": "3.12.4"
  }
 },
 "nbformat": 4,
 "nbformat_minor": 5
}
