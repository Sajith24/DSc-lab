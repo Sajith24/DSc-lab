{
 "cells": [
  {
   "cell_type": "code",
   "execution_count": 1,
   "id": "b4aec77c-d0b1-41d1-bc53-a87166d4ba2d",
   "metadata": {},
   "outputs": [
    {
     "name": "stdout",
     "output_type": "stream",
     "text": [
      "hello world\n"
     ]
    }
   ],
   "source": [
    "print(\"hello world\")\n"
   ]
  },
  {
   "cell_type": "code",
   "execution_count": 2,
   "id": "8b2c607c-12df-4210-9750-8c11e254c057",
   "metadata": {
    "scrolled": true
   },
   "outputs": [
    {
     "name": "stdout",
     "output_type": "stream",
     "text": [
      "demo of basic datatypes:Number\n",
      "x= 3\n",
      "y= 2.5\n",
      "datatype of variable x: <class 'int'>\n",
      "datatype of variable y: <class 'float'>\n",
      "addition: 5.5\n",
      "subtraction: 0.5\n",
      "multiplication: 6\n",
      "exponentiation: 9\n"
     ]
    }
   ],
   "source": [
    "print(\"demo of basic datatypes:Number\")\n",
    "x=3\n",
    "y=2.5\n",
    "print(\"x=\",x)\n",
    "print(\"y=\",y)\n",
    "print(\"datatype of variable x:\",type(x))\n",
    "print(\"datatype of variable y:\",type(y))\n",
    "print(\"addition:\",x+y)\n",
    "print(\"subtraction:\",x-y)\n",
    "print(\"multiplication:\",x*2)\n",
    "print(\"exponentiation:\",x**2)"
   ]
  },
  {
   "cell_type": "code",
   "execution_count": 7,
   "id": "c030f87a-b32c-4f12-96d9-5ceb2a53a7a0",
   "metadata": {},
   "outputs": [
    {
     "name": "stdout",
     "output_type": "stream",
     "text": [
      "demo of basic datatypes:boolean\n",
      "t= True\n",
      "f= False\n",
      "datatype of variable t: <class 'bool'>\n",
      "datatype of variable f: <class 'bool'>\n",
      "logcal AND operation False\n",
      "logcal OR operation True\n",
      "logcal NOT operation False\n",
      "logcal XOR operation True\n"
     ]
    }
   ],
   "source": [
    "print(\"demo of basic datatypes:boolean\")\n",
    "t=True\n",
    "f=False\n",
    "print(\"t=\",t)\n",
    "print(\"f=\",f)\n",
    "print(\"datatype of variable t:\",type(t))\n",
    "print(\"datatype of variable f:\",type(f))\n",
    "print(\"logcal AND operation\",t and f)\n",
    "print(\"logcal OR operation\",t or f)\n",
    "print(\"logcal NOT operation\", not t)\n",
    "print(\"logcal XOR operation\",t != f)"
   ]
  },
  {
   "cell_type": "code",
   "execution_count": 11,
   "id": "f1375d76-be13-483b-a07c-7f4115a70b60",
   "metadata": {},
   "outputs": [
    {
     "name": "stdout",
     "output_type": "stream",
     "text": [
      "demo of basic datatypes:string\n",
      "string1: hello\n",
      "string2: world\n",
      "string concatination: hello world\n",
      "capitalize: Hello world\n",
      "converted to uppercase: HELLO\n",
      "right justify at center:   hello\n",
      "string at center:  hello \n",
      "after replacing | with ell: hello\n",
      "string after stripping leading and trailing white spaces: world\n"
     ]
    }
   ],
   "source": [
    "print(\"demo of basic datatypes:string\")\n",
    "s=\"hello\"\n",
    "t=\"world\"\n",
    "print(\"string1:\",s)\n",
    "print(\"string2:\",t)\n",
    "d=s+\"ipynb \"+t\n",
    "print(\"string concatination:\",d)\n",
    "print(\"capitalize:\",d.capitalize())\n",
    "print(\"converted to uppercase:\",s.upper())\n",
    "printipynb(\"right justify at center:\",s.rjust(7))\n",
    "print(\"string at center:\",s.center(7))\n",
    "print(\"after replacing | with ell:\",s.replace('|','(ell)'))\n",
    "print(\"string after stripping leading and trailing white spaces:\",'world'.strip())\n"
   ]
  },
  {
   "cell_type": "code",
   "execution_count": 19,
   "id": "72bcdb73-914f-48cc-9892-c5a5d594652f",
   "metadata": {},
   "outputs": [
    {
     "name": "stdout",
     "output_type": "stream",
     "text": [
      "containers:lists\n",
      "list 'nums' contains: [0, 1, 2, 3, 4]\n",
      "list can contain elements of diff. types  example: [0, 1, 2, 3, 'abc']\n",
      "'nums' after inserting new element at the end:\n",
      "sublist:\n",
      "A slice from index 2 to 4: [2, 3]\n",
      "A slice from index 2 to the end: [2, 3, 'abc', 'xyz']\n",
      "A slice from the start to index 2: [0, 1]\n",
      "A slice of the whole list: [0, 1, 2, 3, 'abc', 'xyz']\n",
      "after assigning  a new sublist to 'nums':\n",
      "1:0\n",
      "2:1\n",
      "3:2\n",
      "4:3\n",
      "5:8\n",
      "6:9\n",
      "list if squares of even numbers from 'nums': [0, 4, 64]\n"
     ]
    }
   ],
   "source": [
    "print(\"containers:lists\")\n",
    "nums=list(range(5))\n",
    "print(\"list 'nums' contains:\",nums)\n",
    "nums[4]=\"abc\"\n",
    "print(\"list can contain elements of diff. types  example:\",nums)\n",
    "nums.append(\"xyz\")\n",
    "print(\"'nums' after inserting new element at the end:\")\n",
    "print(\"sublist:\")\n",
    "print(\"A slice from index 2 to 4:\",nums[2:4])\n",
    "print(\"A slice from index 2 to the end:\",nums[2:])\n",
    "print(\"A slice from the start to index 2:\",nums[:2])\n",
    "print(\"A slice of the whole list:\",nums[:])\n",
    "nums[4:]=[8, 9] #assigning a new sublist to a slice\n",
    "print(\"after assigning  a new sublist to 'nums':\")\n",
    "for idx,i in enumerate(nums):\n",
    "    print('%d:%s'%(idx+1,i))\n",
    "even_squares=[x**2 for x in nums if x %2==0]\n",
    "print(\"list if squares of even numbers from 'nums':\",even_squares)"
   ]
  },
  {
   "cell_type": "code",
   "execution_count": 21,
   "id": "2b843767-5feb-4501-865c-f2d240759bc2",
   "metadata": {},
   "outputs": [
    {
     "name": "stdout",
     "output_type": "stream",
     "text": [
      "containers:dictionaries\n",
      "dictionaries: {'cat': 'cute', 'dog': 'furry'}\n",
      "is the dictionary has the key 'cat'? True\n",
      "after adding new entry to 'd': {'cat': 'cute', 'dog': 'furry', 'fish': 'wet'}\n",
      "get an element monkey: N/A\n",
      "get an element fish: wet\n",
      "after deleting the newly added enry from 'd': {'cat': 'cute', 'dog': 'furry'}\n",
      "demo of dictionary comrehension:\n",
      "squares of integers of range 10:\n",
      "0 : 0\n",
      "1 : 1\n",
      "2 : 4\n",
      "3 : 9\n",
      "4 : 16\n",
      "5 : 25\n",
      "6 : 36\n",
      "7 : 49\n",
      "8 : 64\n",
      "9 : 81\n"
     ]
    }
   ],
   "source": [
    "print(\"containers:dictionaries\")\n",
    "d=dict()\n",
    "d={'cat':'cute','dog':'furry'}\n",
    "print(\"dictionaries:\",d)\n",
    "print(\"is the dictionary has the key 'cat'?\",'cat' in d)\n",
    "d['fish']='wet'\n",
    "print(\"after adding new entry to 'd':\",d)\n",
    "print(\"get an element monkey:\",d.get('monkey','N/A'))\n",
    "print(\"get an element fish:\",d.get('fish','N/A'))\n",
    "del d['fish']\n",
    "print(\"after deleting the newly added enry from 'd':\",d)\n",
    "print(ipynb\"demo of dictionary comrehension:\")\n",
    "squares={x:x*x for x in range(10)}\n",
    "print(\"squares of integers of range 10:\")\n",
    "for k,v in squares.items():\n",
    "    print(k,\":\",v)"
   ]
  },
  {
   "cell_type": "code",
   "execution_count": 22,
   "id": "533bd718-723f-40c6-a8d8-96a9efe380a0",
   "metadata": {},
   "outputs": [
    {
     "name": "stdout",
     "output_type": "stream",
     "text": [
      "containers:set\n",
      "set 'num1': {120, 100, 110}\n",
      "'num1' after inserting 90: {120, 90, 100, 110}\n",
      "'num1' affter inserting multiple element: {100, 70, 110, 50, 120, 90, 60}\n",
      "'num1' after removing 60: {100, 70, 110, 50, 120, 90}\n",
      "set comprehensions an set operations:\n",
      "n1= {0, 1, 2, 3, 4, 5, 6, 7, 8, 9}\n",
      "n2= {1, 3, 5, 7, 9}\n",
      "n1 union n2: {0, 1, 2, 3, 4, 5, 6, 7, 8, 9}\n",
      "n1 intersection n2: {1, 3, 5, 7, 9}\n",
      "n1 difference n2: {0, 2, 4, 6, 8}\n"
     ]
    }
   ],
   "source": [
    "print(\"containers:set\")\n",
    "num1={100,110,120}\n",
    "print(\"set 'num1':\",num1)\n",
    "num1.add(90)\n",
    "print(\"'num1' after inserting 90:\",num1)\n",
    "num1.update([50,60,70])\n",
    "print(\"'num1' affter inserting multiple element:\",num1)\n",
    "num1.remove(60)\n",
    "print(\"'num1' after removing 60:\",num1)\n",
    "print(\"set comprehensions an set operations:\")\n",
    "n1={x for x in range(10)}\n",
    "print(\"n1=\",n1)\n",
    "n2={x for x in range(10)if x%2!=0}\n",
    "print(\"n2=\",n2)\n",
    "print(\"n1 union n2:\",n1|n2)\n",
    "print(\"n1 intersection n2:\",n1&n2)\n",
    "print(\"n1 difference n2:\",n1-n2)"
   ]
  },
  {
   "cell_type": "code",
   "execution_count": 24,
   "id": "06466f16-77ca-4fa2-bccf-9f80762774bd",
   "metadata": {},
   "outputs": [
    {
     "name": "stdout",
     "output_type": "stream",
     "text": [
      "containers:tuple\n",
      "dicionary with tuple keys:\n",
      "(0, 1) : 0\n",
      "(1, 2) : 1\n",
      "(2, 3) : 2\n",
      "(3, 4) : 3\n",
      "(4, 5) : 4\n",
      "(5, 6) : 5\n",
      "(6, 7) : 6\n",
      "(7, 8) : 7\n",
      "(8, 9) : 8\n",
      "(9, 10) : 9\n",
      "tuple t: (5, 6)\n",
      "5\n",
      "1\n"
     ]
    }
   ],
   "source": [
    "print(\"containers:tuple\")\n",
    "d={(x,x+1):x for x in range(10)}\n",
    "print(\"dicionary with tuple keys:\")\n",
    "for k,v in d.items():\n",
    "    print(k,\":\",v)\n",
    "t=(5,6)\n",
    "print(\"tuple t:\",t)\n",
    "print(d[t])\n",
    "print(d[1,2])"
   ]
  },
  {
   "cell_type": "code",
   "execution_count": 27,
   "id": "4e364557-4063-4ad7-b691-65135758b47f",
   "metadata": {},
   "outputs": [
    {
     "name": "stdout",
     "output_type": "stream",
     "text": [
      "demo of functions:pgm to find fact of a number\n"
     ]
    },
    {
     "name": "stdin",
     "output_type": "stream",
     "text": [
      "enter a number: 12\n"
     ]
    },
    {
     "name": "stdout",
     "output_type": "stream",
     "text": [
      "factorial: 479001600\n"
     ]
    }
   ],
   "source": [
    "print(\"demo of functions:pgm to find fact of a number\")\n",
    "def fact(n):\n",
    "    if n==1:\n",
    "        return 1\n",
    "    else:\n",
    "        return(n*fact(n-1))\n",
    "n=int(input(\"enter a number:\"))\n",
    "print(\"factorial:\",fact(n))"
   ]
  },
  {
   "cell_type": "code",
   "execution_count": 35,
   "id": "c63e2c92-4753-4bb7-b2d6-f5c9305b490c",
   "metadata": {},
   "outputs": [
    {
     "name": "stdout",
     "output_type": "stream",
     "text": [
      "Hello,fred\n",
      "HELLO,FRED!\n"
     ]
    }
   ],
   "source": [
    "class Greeter:\n",
    "    def __init__(self,name):\n",
    "        self.name=name\n",
    "    def greet(self,loud=False):\n",
    "        if loud:\n",
    "            print('HELLO,%s!'%self.name.upper())\n",
    "        else:\n",
    "            print('Hello,%s'%self.name)\n",
    "g=Greeter('fred')\n",
    "g.greet()\n",
    "g.greet(loud=True)"
   ]
  },
  {
   "cell_type": "code",
   "execution_count": null,
   "id": "21c03bcb-0b88-4af2-a853-166a63c71167",
   "metadata": {},
   "outputs": [],
   "source": []
  },
  {
   "cell_type": "code",
   "execution_count": null,
   "id": "95efe086-8d2c-4e0e-b53c-c955852a7267",
   "metadata": {},
   "outputs": [],
   "source": []
  }
 ],
 "metadata": {
  "kernelspec": {
   "display_name": "Python 3 (ipykernel)",
   "language": "python",
   "name": "python3"
  },
  "language_info": {
   "codemirror_mode": {
    "name": "ipython",
    "version": 3
   },
   "file_extension": ".py",
   "mimetype": "text/x-python",
   "name": "python",
   "nbconvert_exporter": "python",
   "pygments_lexer": "ipython3",
   "version": "3.12.4"
  }
 },
 "nbformat": 4,
 "nbformat_minor": 5
}
