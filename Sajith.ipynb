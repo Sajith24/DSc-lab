{
 "cells": [
  {
   "cell_type": "code",
   "execution_count": 1,
   "id": "b4aec77c-d0b1-41d1-bc53-a87166d4ba2d",
   "metadata": {},
   "outputs": [
    {
     "name": "stdout",
     "output_type": "stream",
     "text": [
      "hello world\n"
     ]
    }
   ],
   "source": [
    "print(\"hello world\")\n"
   ]
  },
  {
   "cell_type": "code",
   "execution_count": 2,
   "id": "8b2c607c-12df-4210-9750-8c11e254c057",
   "metadata": {},
   "outputs": [
    {
     "name": "stdout",
     "output_type": "stream",
     "text": [
      "demo of basic datatypes:Number\n",
      "x= 3\n",
      "y= 2.5\n",
      "datatype of variable x: <class 'int'>\n",
      "datatype of variable y: <class 'float'>\n",
      "addition: 5.5\n",
      "subtraction: 0.5\n",
      "multiplication: 6\n",
      "exponentiation: 9\n"
     ]
    }
   ],
   "source": [
    "print(\"demo of basic datatypes:Number\")\n",
    "x=3\n",
    "y=2.5\n",
    "print(\"x=\",x)\n",
    "print(\"y=\",y)\n",
    "print(\"datatype of variable x:\",type(x))\n",
    "print(\"datatype of variable y:\",type(y))\n",
    "print(\"addition:\",x+y)\n",
    "print(\"subtraction:\",x-y)\n",
    "print(\"multiplication:\",x*2)\n",
    "print(\"exponentiation:\",x**2)"
   ]
  },
  {
   "cell_type": "code",
   "execution_count": null,
   "id": "c030f87a-b32c-4f12-96d9-5ceb2a53a7a0",
   "metadata": {},
   "outputs": [],
   "source": [
    "print(\"demo of basic datatypes:boolean\")\n",
    "t=true\n",
    "f=false"
   ]
  }
 ],
 "metadata": {
  "kernelspec": {
   "display_name": "Python 3 (ipykernel)",
   "language": "python",
   "name": "python3"
  },
  "language_info": {
   "codemirror_mode": {
    "name": "ipython",
    "version": 3
   },
   "file_extension": ".py",
   "mimetype": "text/x-python",
   "name": "python",
   "nbconvert_exporter": "python",
   "pygments_lexer": "ipython3",
   "version": "3.12.4"
  }
 },
 "nbformat": 4,
 "nbformat_minor": 5
}
