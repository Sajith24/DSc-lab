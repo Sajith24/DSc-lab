{
 "cells": [
  {
   "cell_type": "code",
   "execution_count": 5,
   "id": "f7177fac-598d-4baf-bc2e-b05c48a9a2b3",
   "metadata": {},
   "outputs": [
    {
     "name": "stdout",
     "output_type": "stream",
     "text": [
      "one dinmentional array a= [1 2 3]\n",
      "two dimensional array b= [[1 2 3]\n",
      " [4 5 6]]\n",
      "size of the array: (3,)\n",
      "element at indices 0,1,2: 1 2 3\n",
      "array after changing the element at index 0: [5 2 3]\n",
      "an array of all zeros: [[0. 0.]\n",
      " [0. 0.]]\n",
      "an array of ones: [[1. 1.]]\n",
      "a constant array: [[7 7]\n",
      " [7 7]]\n",
      "a 2*2 identity matric: [[1. 0.]\n",
      " [0. 1.]]\n",
      "an array with random values: [[0.21571577 0.70154801]\n",
      " [0.33395405 0.5496775 ]]\n"
     ]
    }
   ],
   "source": [
    "import numpy as np\n",
    "a=np.array([1,2,3])\n",
    "print(\"one dinmentional array a=\",a)\n",
    "b=np.array([[1,2,3],[4,5,6]])\n",
    "print(\"two dimensional array b=\",b)\n",
    "print(\"size of the array:\",a.shape)\n",
    "print(\"element at indices 0,1,2:\",a[0],a[1],a[2])\n",
    "a[0]=5\n",
    "print(\"array after changing the element at index 0:\",a)\n",
    "a=np.zeros((2,2))\n",
    "print(\"an array of all zeros:\",a)\n",
    "b=np.ones((1,2))\n",
    "print(\"an array of ones:\",b)\n",
    "c=np.full((2,2),7)\n",
    "print(\"a constant array:\",c)\n",
    "d=np.eye(2)\n",
    "print(\"a 2*2 identity matric:\",d)\n",
    "e=np.random.random((2,2))\n",
    "print(\"an array with random values:\",e)"
   ]
  },
  {
   "cell_type": "code",
   "execution_count": 8,
   "id": "1728a959-3123-4a2e-8901-8b99896adf01",
   "metadata": {},
   "outputs": [
    {
     "name": "stdout",
     "output_type": "stream",
     "text": [
      "array indexing:slicing\n",
      "a1= [[ 1  2  3  4]\n",
      " [ 5  6  7  8]\n",
      " [ 9 10 11 12]]\n",
      "subarray consisting of first two rows and column 1 and 2: [[2 3]\n",
      " [6 7]]\n",
      "subarray consist of second row: [[5 6 7 8]]\n",
      "accessing columns:\n",
      "[ 2  6 10] (3,)\n",
      "[[ 2]\n",
      " [ 5]\n",
      " [ 8]\n",
      " [11]] (4, 1)\n",
      "array intiger indexing:\n",
      "a2= [[1 2]\n",
      " [3 4]\n",
      " [5 6]]\n",
      "example of array integer indexing: [1 6 9]\n",
      "[2 2]\n",
      "[2 2]\n",
      "a3= [[ 1  2  3]\n",
      " [ 4  5  6]\n",
      " [ 7  8  9]\n",
      " [10 11 12]]\n",
      "b= [0 2 0 1]\n",
      "a3= [ 1  6  7 11]\n",
      "a3= [[11  2  3]\n",
      " [ 4  5 16]\n",
      " [17  8  9]\n",
      " [10 21 12]]\n",
      "boolean array indexing:\n",
      "a= [[1 2]\n",
      " [3 4]\n",
      " [5 6]]\n",
      "elements greater that 2: [3 4 5 6]\n"
     ]
    }
   ],
   "source": [
    "import numpy as np\n",
    "print(\"array indexing:slicing\")\n",
    "a1=np.array([[1,2,3,4],[5,6,7,8],[9,10,11,12]])\n",
    "print(\"a1=\",a1)\n",
    "b=a1[:2,1:3]\n",
    "print(\"subarray consisting of first two rows and column 1 and 2:\",b)\n",
    "b=a1[1:2,:]\n",
    "print(\"subarray consist of second row:\",b)\n",
    "print(\"accessing columns:\")\n",
    "b=a1[:,1]\n",
    "print(b,b.shape)\n",
    "c=a[:,1:2]\n",
    "print(c,c.shape)\n",
    "print(\"array intiger indexing:\")\n",
    "a2=np.array([[1,2],[3,4],[5,6]])\n",
    "print(\"a2=\",a2)\n",
    "print(\"example of array integer indexing:\",a1[[0,1,2],[0,1,0]])\n",
    "print(a2[[0,0],[1,1]])\n",
    "print(np.array([a2[0,1],a[0,1]]))\n",
    "a3=a=np.array([[1,2,3],[4,5,6],[7,8,9],[10,11,12]])\n",
    "print(\"a3=\",a3)\n",
    "b=np.array([0,2,0,1])\n",
    "print(\"b=\",b)\n",
    "print(\"a3=\",a3[np.arange(4),b])\n",
    "a3[np.arange(4),b]+=10\n",
    "print(\"a3=\",a3)\n",
    "print(\"boolean array indexing:\")\n",
    "a=np.array([[1,2],[3,4],[5,6]])\n",
    "print(\"a=\",a)\n",
    "bool_idx=(a>2)\n",
    "print(\"elements greater that 2:\",a[bool_idx])"
   ]
  },
  {
   "cell_type": "code",
   "execution_count": 12,
   "id": "51f18518-1655-4c8e-bce0-d0181fc0c26b",
   "metadata": {},
   "outputs": [
    {
     "name": "stdout",
     "output_type": "stream",
     "text": [
      "x= [[1. 2.]\n",
      " [3. 4.]]\n",
      "y= [[6. 9.]\n",
      " [4. 4.]]\n",
      "addition: [[2. 4.]\n",
      " [6. 8.]]\n",
      "subtraction: [[-5. -7.]\n",
      " [-1.  0.]]\n",
      "multiplicat: [[ 6. 18.]\n",
      " [12. 16.]]\n",
      "square root x: [[1.         1.41421356]\n",
      " [1.73205081 2.        ]]\n",
      "sum of element of matrix c: 10.0\n",
      "sum of element in each column of matrix y: [10. 13.]\n",
      "transpose of matrix X: [[1. 3.]\n",
      " [2. 4.]]\n"
     ]
    }
   ],
   "source": [
    "import numpy as np\n",
    "x=np.array([[1,2],[3,4]],dtype=np.float64)\n",
    "y=np.array([[6,9],[4,4]],dtype=np.float64)\n",
    "print(\"x=\",x)\n",
    "print(\"y=\",y)\n",
    "print(\"addition:\",np.add(x,x))\n",
    "print(\"subtraction:\",np.subtract(x,y))\n",
    "print(\"multiplicat:\",np.multiply(x,y))\n",
    "print(\"square root x:\",np.sqrt(x))\n",
    "print(\"sum of element of matrix c:\",np.sum(x))\n",
    "print(\"sum of element in each column of matrix y:\",np.sum(y,axis=0))\n",
    "print(\"transpose of matrix X:\",x.T)\n"
   ]
  },
  {
   "cell_type": "code",
   "execution_count": 15,
   "id": "7ec34b74-1c1e-406d-ba96-f92d7610e654",
   "metadata": {},
   "outputs": [
    {
     "name": "stdout",
     "output_type": "stream",
     "text": [
      "example for broadcasting:\n",
      "v= [1 2 3]\n",
      "w= [4 5]\n",
      "outer product of above vectors:\n",
      "[[ 4  5]\n",
      " [ 8 10]\n",
      " [12 15]]\n",
      "x= [[1 2 3]\n",
      " [4 5 6]]\n",
      "resulting matrix after adding the vector x to each row of matrix v:\n",
      "[[2 4 6]\n",
      " [5 7 9]]\n",
      "example for broadcasting fails:\n",
      "adding the vector x to each colum of matrix w will generate an error\n",
      "solution:Reshape the matrix within the result will be:\n",
      "[[ 5  6  7]\n",
      " [ 9 10 11]]\n"
     ]
    }
   ],
   "source": [
    "import numpy as np\n",
    "print(\"example for broadcasting:\")\n",
    "v=np.array([1,2,3])\n",
    "w=np.array([4,5])\n",
    "print(\"v=\",v)\n",
    "print(\"w=\",w)\n",
    "print(\"outer product of above vectors:\")\n",
    "print(np.reshape(v,(3,1))*w)\n",
    "x=np.array([[1,2,3],[4,5,6]])\n",
    "print(\"x=\",x)\n",
    "print(\"resulting matrix after adding the vector x to each row of matrix v:\")\n",
    "print(x + v)\n",
    "print(\"example for broadcasting fails:\")\n",
    "print(\"adding the vector x to each colum of matrix w will generate an error\")\n",
    "print(\"solution:Reshape the matrix within the result will be:\")\n",
    "print(x+np.reshape(w,(2,1)))"
   ]
  },
  {
   "cell_type": "code",
   "execution_count": null,
   "id": "bc3187c6-fe3d-4ae8-8551-b0c8fe13417e",
   "metadata": {},
   "outputs": [],
   "source": []
  }
 ],
 "metadata": {
  "kernelspec": {
   "display_name": "Python 3 (ipykernel)",
   "language": "python",
   "name": "python3"
  },
  "language_info": {
   "codemirror_mode": {
    "name": "ipython",
    "version": 3
   },
   "file_extension": ".py",
   "mimetype": "text/x-python",
   "name": "python",
   "nbconvert_exporter": "python",
   "pygments_lexer": "ipython3",
   "version": "3.12.4"
  }
 },
 "nbformat": 4,
 "nbformat_minor": 5
}
